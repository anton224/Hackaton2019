{
 "cells": [
  {
   "cell_type": "code",
   "execution_count": 1,
   "metadata": {},
   "outputs": [],
   "source": [
    "import pandas as pd\n",
    "import numpy as np \n",
    "import matplotlib.pyplot as plt\n",
    "import seaborn as sns\n",
    "import scipy\n",
    "from copy import copy"
   ]
  },
  {
   "cell_type": "code",
   "execution_count": 2,
   "metadata": {},
   "outputs": [],
   "source": [
    "classes = ['Food','Culture','Nature','Sight Seeing','Museum','Store']"
   ]
  },
  {
   "cell_type": "code",
   "execution_count": null,
   "metadata": {},
   "outputs": [],
   "source": []
  },
  {
   "cell_type": "code",
   "execution_count": null,
   "metadata": {},
   "outputs": [],
   "source": []
  },
  {
   "cell_type": "code",
   "execution_count": 15,
   "metadata": {},
   "outputs": [],
   "source": [
    "# toy model\n",
    "import random\n",
    "\n",
    "n_loc = 50\n",
    "my_class = []\n",
    "test_loc_lng = np.random.rand(n_loc)\n",
    "test_loc_lat = np.random.rand(n_loc)\n",
    "loc = []\n",
    "user_weights = []\n",
    "rating = []\n",
    "for k in classes:\n",
    "    user_weights.append(np.random.uniform(0.,1.))\n",
    "for i in range(50):\n",
    "    my_class.append(random.choice(classes))\n",
    "    rating.append(np.random.uniform(3,5))"
   ]
  },
  {
   "cell_type": "code",
   "execution_count": 16,
   "metadata": {},
   "outputs": [],
   "source": [
    "df = pd.DataFrame()\n",
    "df['type'] = my_class\n",
    "df['lng'] = test_loc_lng\n",
    "df['lat'] = test_loc_lat\n",
    "df['rating'] = rating"
   ]
  },
  {
   "cell_type": "code",
   "execution_count": 5,
   "metadata": {},
   "outputs": [
    {
     "data": {
      "text/html": [
       "<div>\n",
       "<style scoped>\n",
       "    .dataframe tbody tr th:only-of-type {\n",
       "        vertical-align: middle;\n",
       "    }\n",
       "\n",
       "    .dataframe tbody tr th {\n",
       "        vertical-align: top;\n",
       "    }\n",
       "\n",
       "    .dataframe thead th {\n",
       "        text-align: right;\n",
       "    }\n",
       "</style>\n",
       "<table border=\"1\" class=\"dataframe\">\n",
       "  <thead>\n",
       "    <tr style=\"text-align: right;\">\n",
       "      <th></th>\n",
       "      <th>type</th>\n",
       "      <th>lng</th>\n",
       "      <th>lat</th>\n",
       "      <th>rating</th>\n",
       "    </tr>\n",
       "  </thead>\n",
       "  <tbody>\n",
       "    <tr>\n",
       "      <th>0</th>\n",
       "      <td>Food</td>\n",
       "      <td>40.819688</td>\n",
       "      <td>-73.915091</td>\n",
       "      <td>3.835332</td>\n",
       "    </tr>\n",
       "    <tr>\n",
       "      <th>1</th>\n",
       "      <td>Nature</td>\n",
       "      <td>40.815421</td>\n",
       "      <td>-73.941761</td>\n",
       "      <td>3.652499</td>\n",
       "    </tr>\n",
       "    <tr>\n",
       "      <th>2</th>\n",
       "      <td>Sight Seeing</td>\n",
       "      <td>40.764198</td>\n",
       "      <td>-73.910785</td>\n",
       "      <td>4.022984</td>\n",
       "    </tr>\n",
       "    <tr>\n",
       "      <th>3</th>\n",
       "      <td>Museum</td>\n",
       "      <td>40.768790</td>\n",
       "      <td>-73.953285</td>\n",
       "      <td>3.633267</td>\n",
       "    </tr>\n",
       "    <tr>\n",
       "      <th>4</th>\n",
       "      <td>Store</td>\n",
       "      <td>40.743613</td>\n",
       "      <td>-73.952950</td>\n",
       "      <td>3.967311</td>\n",
       "    </tr>\n",
       "    <tr>\n",
       "      <th>5</th>\n",
       "      <td>Nature</td>\n",
       "      <td>40.745313</td>\n",
       "      <td>-73.977998</td>\n",
       "      <td>3.490116</td>\n",
       "    </tr>\n",
       "    <tr>\n",
       "      <th>6</th>\n",
       "      <td>Nature</td>\n",
       "      <td>40.662713</td>\n",
       "      <td>-73.993793</td>\n",
       "      <td>4.038988</td>\n",
       "    </tr>\n",
       "    <tr>\n",
       "      <th>7</th>\n",
       "      <td>Culture</td>\n",
       "      <td>40.703761</td>\n",
       "      <td>-73.946101</td>\n",
       "      <td>4.682747</td>\n",
       "    </tr>\n",
       "    <tr>\n",
       "      <th>8</th>\n",
       "      <td>Culture</td>\n",
       "      <td>40.713620</td>\n",
       "      <td>-147.829572</td>\n",
       "      <td>4.221437</td>\n",
       "    </tr>\n",
       "    <tr>\n",
       "      <th>9</th>\n",
       "      <td>Store</td>\n",
       "      <td>40.725212</td>\n",
       "      <td>-73.809179</td>\n",
       "      <td>4.939418</td>\n",
       "    </tr>\n",
       "  </tbody>\n",
       "</table>\n",
       "</div>"
      ],
      "text/plain": [
       "           type        lng         lat    rating\n",
       "0          Food  40.819688  -73.915091  3.835332\n",
       "1        Nature  40.815421  -73.941761  3.652499\n",
       "2  Sight Seeing  40.764198  -73.910785  4.022984\n",
       "3        Museum  40.768790  -73.953285  3.633267\n",
       "4         Store  40.743613  -73.952950  3.967311\n",
       "5        Nature  40.745313  -73.977998  3.490116\n",
       "6        Nature  40.662713  -73.993793  4.038988\n",
       "7       Culture  40.703761  -73.946101  4.682747\n",
       "8       Culture  40.713620 -147.829572  4.221437\n",
       "9         Store  40.725212  -73.809179  4.939418"
      ]
     },
     "execution_count": 5,
     "metadata": {},
     "output_type": "execute_result"
    }
   ],
   "source": [
    "df.head(10)"
   ]
  },
  {
   "cell_type": "code",
   "execution_count": 6,
   "metadata": {},
   "outputs": [],
   "source": [
    "df_food = df[df['type'] == 'Food']"
   ]
  },
  {
   "cell_type": "code",
   "execution_count": 7,
   "metadata": {},
   "outputs": [
    {
     "data": {
      "text/html": [
       "<div>\n",
       "<style scoped>\n",
       "    .dataframe tbody tr th:only-of-type {\n",
       "        vertical-align: middle;\n",
       "    }\n",
       "\n",
       "    .dataframe tbody tr th {\n",
       "        vertical-align: top;\n",
       "    }\n",
       "\n",
       "    .dataframe thead th {\n",
       "        text-align: right;\n",
       "    }\n",
       "</style>\n",
       "<table border=\"1\" class=\"dataframe\">\n",
       "  <thead>\n",
       "    <tr style=\"text-align: right;\">\n",
       "      <th></th>\n",
       "      <th>type</th>\n",
       "      <th>lng</th>\n",
       "      <th>lat</th>\n",
       "      <th>rating</th>\n",
       "    </tr>\n",
       "  </thead>\n",
       "  <tbody>\n",
       "    <tr>\n",
       "      <th>0</th>\n",
       "      <td>Food</td>\n",
       "      <td>40.819688</td>\n",
       "      <td>-73.915091</td>\n",
       "      <td>3.835332</td>\n",
       "    </tr>\n",
       "  </tbody>\n",
       "</table>\n",
       "</div>"
      ],
      "text/plain": [
       "   type        lng        lat    rating\n",
       "0  Food  40.819688 -73.915091  3.835332"
      ]
     },
     "execution_count": 7,
     "metadata": {},
     "output_type": "execute_result"
    }
   ],
   "source": [
    "df_food"
   ]
  },
  {
   "cell_type": "code",
   "execution_count": 17,
   "metadata": {},
   "outputs": [],
   "source": [
    "user_opt = {'Food': True,'Culture': 0.1,'Nature':0.25,'Sight Seeing':0.15,'Museum':0.1,'Store':0.4}"
   ]
  },
  {
   "cell_type": "code",
   "execution_count": 9,
   "metadata": {},
   "outputs": [
    {
     "data": {
      "text/plain": [
       "{'Food': True,\n",
       " 'Culture': 0.1,\n",
       " 'Nature': 0.25,\n",
       " 'Sight Seeing': 0.15,\n",
       " 'Museum': 0.1,\n",
       " 'Store': 0.4}"
      ]
     },
     "execution_count": 9,
     "metadata": {},
     "output_type": "execute_result"
    }
   ],
   "source": [
    "user_opt"
   ]
  },
  {
   "cell_type": "code",
   "execution_count": 18,
   "metadata": {},
   "outputs": [],
   "source": [
    "loc_df = df[df.type!='Food']\n",
    "food_df = df[df.type=='Food']"
   ]
  },
  {
   "cell_type": "code",
   "execution_count": 23,
   "metadata": {},
   "outputs": [
    {
     "data": {
      "text/html": [
       "<div>\n",
       "<style scoped>\n",
       "    .dataframe tbody tr th:only-of-type {\n",
       "        vertical-align: middle;\n",
       "    }\n",
       "\n",
       "    .dataframe tbody tr th {\n",
       "        vertical-align: top;\n",
       "    }\n",
       "\n",
       "    .dataframe thead th {\n",
       "        text-align: right;\n",
       "    }\n",
       "</style>\n",
       "<table border=\"1\" class=\"dataframe\">\n",
       "  <thead>\n",
       "    <tr style=\"text-align: right;\">\n",
       "      <th></th>\n",
       "      <th>type</th>\n",
       "      <th>lng</th>\n",
       "      <th>lat</th>\n",
       "      <th>rating</th>\n",
       "    </tr>\n",
       "  </thead>\n",
       "  <tbody>\n",
       "    <tr>\n",
       "      <th>3</th>\n",
       "      <td>Food</td>\n",
       "      <td>0.869282</td>\n",
       "      <td>0.653531</td>\n",
       "      <td>3.432719</td>\n",
       "    </tr>\n",
       "    <tr>\n",
       "      <th>34</th>\n",
       "      <td>Food</td>\n",
       "      <td>0.961903</td>\n",
       "      <td>0.337136</td>\n",
       "      <td>4.274619</td>\n",
       "    </tr>\n",
       "    <tr>\n",
       "      <th>28</th>\n",
       "      <td>Food</td>\n",
       "      <td>0.831365</td>\n",
       "      <td>0.716850</td>\n",
       "      <td>3.894910</td>\n",
       "    </tr>\n",
       "  </tbody>\n",
       "</table>\n",
       "</div>"
      ],
      "text/plain": [
       "    type       lng       lat    rating\n",
       "3   Food  0.869282  0.653531  3.432719\n",
       "34  Food  0.961903  0.337136  4.274619\n",
       "28  Food  0.831365  0.716850  3.894910"
      ]
     },
     "execution_count": 23,
     "metadata": {},
     "output_type": "execute_result"
    }
   ],
   "source": [
    "food_df.iloc[[1,4,3]]"
   ]
  },
  {
   "cell_type": "code",
   "execution_count": 87,
   "metadata": {},
   "outputs": [],
   "source": [
    "class route:\n",
    "    \n",
    "    part1 = []\n",
    "    part2 = []\n",
    "    \n",
    "    food = []\n",
    "    \n",
    "    def get_route_no_dist(self):\n",
    "        return pd.concat([self.part1,self.food,self.part2])\n",
    "    \n",
    "    def compute_distances(self,startpoint):\n",
    "        r = self.get_route_no_dist()\n",
    "        \n",
    "        x = r.lng.values\n",
    "        y = r.lat.values\n",
    "        distances = []\n",
    "        for i in range(len(r)):\n",
    "            if i==0:\n",
    "                dist = np.sqrt( (x[i]-startpoint[0])**2+(y[i]-startpoint[1])**2 )\n",
    "            else:\n",
    "                dist = np.sqrt( (x[i]-x[i-1])**2+(y[i]-y[i-1])**2 )\n",
    "            distances.append(dist)\n",
    "        return distances\n",
    "    \n",
    "    def get_route(self,startpoint):\n",
    "        r = self.get_route_no_dist()\n",
    "        distances = self.compute_distances(startpoint)\n",
    "        r['distances'] = distances\n",
    "        return r\n",
    "    def route_score(self, startpoint, class_weights):\n",
    "        score = 0\n",
    "        r = self.get_route(startpoint)\n",
    "        \n",
    "        for i in range(len(r)):\n",
    "            \n",
    "            c_weight = float(class_weights[r.iloc[i].type])\n",
    "            \n",
    "            score_i = ((r.iloc[i].rating)/(r.iloc[i].distances))*c_weight\n",
    "            score+=score_i\n",
    "            \n",
    "        return score\n",
    "        \n",
    "def generate_route(locations,add_food,food_locations):\n",
    "    \n",
    "    r = route()\n",
    "    \n",
    "    part1_len = np.random.randint(1,3)\n",
    "    part2_len = np.random.randint(1,3)\n",
    "    \n",
    "    track = np.random.choice(range(len(locations)),part1_len+part2_len,replace=False)\n",
    "    \n",
    "    r.part1 = locations.iloc[ track[:part1_len] ]\n",
    "    r.part2 = locations.iloc[ track[part1_len:] ]\n",
    "    \n",
    "    if add_food:\n",
    "        food_idx = np.random.choice(range(len(food_locations)))\n",
    "        r.food = food_locations.iloc[[food_idx]]\n",
    "    \n",
    "    return r\n",
    "\n",
    "def generate_routes(n, locations,add_food,food_locations):\n",
    "    \n",
    "    routes = []\n",
    "    for i in range(n):\n",
    "        routes.append( generate_route(locations,add_food,food_locations) )\n",
    "    return routes\n",
    "\n",
    "def pick_1outof2(s1,s2):\n",
    "    \n",
    "    rand_n = np.random.rand()\n",
    "    \n",
    "    thresh = s1/(s1+s2)\n",
    "    \n",
    "    if reand_n > thresh:\n",
    "        return 1\n",
    "    else:\n",
    "        return 0\n",
    "\n",
    "def create_child(r1,score1,r2,score2):\n",
    "    \n",
    "    child = route()\n",
    "    \n",
    "    parents = [r1,r2]\n",
    "    \n",
    "    is_food = len(r1.food)\n",
    "    if is_food:\n",
    "        which_food = pick_1outof2(score1,score2)\n",
    "        child.food = parents[which_food].food\n",
    "    \n",
    "    \n",
    "    part1_parent = pick_1outof2(score1,score2)\n",
    "    part2_parent = pick_1outof2(score1,score2)\n",
    "    \n",
    "    child.part1 = parents[part1_parent].part1\n",
    "    child.part2 = parents[part2_parent].part2\n",
    "    \n",
    "    return child\n",
    "    \n",
    "def check_child(child):\n",
    "    start = [-1,1]\n",
    "    r = child.get_route(start)\n",
    "    if 0.0 in r.distances.values:\n",
    "        return False\n",
    "    else:\n",
    "        return True\n",
    "    \n",
    "def mate_parents(r_list,startpoint,class_weights):\n",
    "    \n",
    "    children = []\n",
    "    \n",
    "    alpha = r_list[0]\n",
    "    score1 = alpha.route_score(startpoint,class_weights)\n",
    "    \n",
    "    for par_i in range(1,len(r_list)):\n",
    "        beta = r_list[par_i]\n",
    "        score2 = beta.route_score(startpoint,class_weights)\n",
    "        \n",
    "        child = create_child(alpha,score1,beta,score2)\n",
    "        if check_child(child):\n",
    "            children.append(child)\n",
    "        else:\n",
    "            child = create_child(alpha,score1,beta,score2)\n",
    "            if check_child(child):\n",
    "                children.append(child)\n",
    "    return children\n",
    "    "
   ]
  },
  {
   "cell_type": "code",
   "execution_count": 88,
   "metadata": {},
   "outputs": [
    {
     "data": {
      "image/png": "[encoded data removed]",
      "text/plain": [
       "<Figure size 576x576 with 1 Axes>"
      ]
     },
     "metadata": {},
     "output_type": "display_data"
    }
   ],
   "source": [
    "import matplotlib.pyplot as plt\n",
    "\n",
    "fig,ax = plt.subplots(figsize=(8,8))\n",
    "\n",
    "start = [0.9,0.5]\n",
    "\n",
    "for i in range(12):\n",
    "    r = generate_route(loc_df,True,food_df)\n",
    "    #print(r)\n",
    "    x = r.get_route(start).lng\n",
    "    y = r.get_route(start).lat\n",
    "    \n",
    "    ax.plot(x,y,c='orange')\n",
    "    \n",
    "\n",
    "\n",
    "ax.scatter(loc_df.lng,loc_df.lat)\n",
    "ax.scatter(food_df.lng,food_df.lat,c='r')\n",
    "\n",
    "plt.show()"
   ]
  },
  {
   "cell_type": "code",
   "execution_count": null,
   "metadata": {},
   "outputs": [],
   "source": [
    "def get_best_route(startingpoint, loc_df, food_df, do_food, class_weights):\n",
    "    n_in_gen = 10\n",
    "    n_top = 5\n",
    "    n_generations = 10\n",
    "    \n",
    "    current_gen = generate_routes(n_in_gen, loc_df, do_food ,food_df)\n",
    "    \n",
    "    for gen_i in range(n_generations):\n",
    "        scores = [ x.route_score(startingpoint, class_weights) for x in current_gen ]\n",
    "        topscores = sorted(zip(scores,current_gen))[-n_top:]\n",
    "        best_ones = [x for _,x in topscores]\n",
    "        \n",
    "        children = mate_parents(best_ones,startpoint,class_weights)\n",
    "        n_children = len(children)\n",
    "        \n",
    "        new_blood = []\n",
    "        if n_in_gen-n_top-n_children > 0:\n",
    "            new_blood = generate_routes(n_in_gen-n_top-n_children, loc_df, do_food ,food_df)\n",
    "        current_gen = best_ones+childre+new_blood\n",
    "    \n",
    "    scores = [ x.route_score(startingpoint, class_weights) for x in current_gen ]\n",
    "    topscores = sorted(zip(scores,current_gen))[-1]\n",
    "    best_one = topscores[1]\n",
    "    \n",
    "    return best_one"
   ]
  },
  {
   "cell_type": "code",
   "execution_count": null,
   "metadata": {},
   "outputs": [],
   "source": []
  },
  {
   "cell_type": "code",
   "execution_count": null,
   "metadata": {},
   "outputs": [],
   "source": []
  },
  {
   "cell_type": "code",
   "execution_count": 84,
   "metadata": {},
   "outputs": [],
   "source": [
    "a = True"
   ]
  },
  {
   "cell_type": "code",
   "execution_count": 85,
   "metadata": {},
   "outputs": [
    {
     "data": {
      "text/plain": [
       "1.0"
      ]
     },
     "execution_count": 85,
     "metadata": {},
     "output_type": "execute_result"
    }
   ],
   "source": [
    "float(a)"
   ]
  },
  {
   "cell_type": "code",
   "execution_count": 92,
   "metadata": {},
   "outputs": [
    {
     "data": {
      "text/plain": [
       "True"
      ]
     },
     "execution_count": 92,
     "metadata": {},
     "output_type": "execute_result"
    }
   ],
   "source": [
    "0 in np.array([0.0,0.1,0.8])"
   ]
  },
  {
   "cell_type": "code",
   "execution_count": null,
   "metadata": {},
   "outputs": [],
   "source": []
  }
 ],
 "metadata": {
  "kernelspec": {
   "display_name": "Python 3",
   "language": "python",
   "name": "python3"
  },
  "language_info": {
   "codemirror_mode": {
    "name": "ipython",
    "version": 3
   },
   "file_extension": ".py",
   "mimetype": "text/x-python",
   "name": "python",
   "nbconvert_exporter": "python",
   "pygments_lexer": "ipython3",
   "version": "3.6.8"
  }
 },
 "nbformat": 4,
 "nbformat_minor": 2
}
